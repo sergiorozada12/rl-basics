{
 "cells": [
  {
   "cell_type": "code",
   "execution_count": 346,
   "id": "5463238b",
   "metadata": {},
   "outputs": [],
   "source": [
    "import numpy as np\n",
    "import random\n",
    "from dataclasses import dataclass\n",
    "import matplotlib.pyplot as plt\n",
    "import gym\n",
    "import torch\n",
    "import torch.nn.functional as F"
   ]
  },
  {
   "cell_type": "code",
   "execution_count": 330,
   "id": "725b4350",
   "metadata": {},
   "outputs": [],
   "source": [
    "env = gym.make('FrozenLake-v1', is_slippery=False)"
   ]
  },
  {
   "cell_type": "code",
   "execution_count": 331,
   "id": "4e09182e",
   "metadata": {},
   "outputs": [],
   "source": [
    "nS = env.observation_space.n\n",
    "nA = env.action_space.n"
   ]
  },
  {
   "cell_type": "code",
   "execution_count": 358,
   "id": "0450ec9e",
   "metadata": {},
   "outputs": [],
   "source": [
    "gamma = 0.9\n",
    "alpha = 0.01\n",
    "eps = 1.0\n",
    "eps_decay = 0.9999999\n",
    "batch_size = 64"
   ]
  },
  {
   "cell_type": "code",
   "execution_count": 359,
   "id": "b6fffb02",
   "metadata": {},
   "outputs": [],
   "source": [
    "max_episodes = 1000000\n",
    "max_steps = 40"
   ]
  },
  {
   "cell_type": "code",
   "execution_count": 360,
   "id": "6d7b7895",
   "metadata": {},
   "outputs": [],
   "source": [
    "def select_action(net, s, epsilon):\n",
    "    with torch.no_grad():\n",
    "        if np.random.rand() < epsilon:\n",
    "            return np.random.choice(nA)\n",
    "        f = F.one_hot(torch.tensor([s]), nS).float()\n",
    "        return qnet(f).argmax().item()"
   ]
  },
  {
   "cell_type": "code",
   "execution_count": 361,
   "id": "d5bc35d6",
   "metadata": {},
   "outputs": [],
   "source": [
    "qnet = torch.nn.Sequential(\n",
    "    torch.nn.Linear(nS, 10),\n",
    "    torch.nn.ReLU(),\n",
    "    torch.nn.Linear(10, nA)\n",
    ")"
   ]
  },
  {
   "cell_type": "code",
   "execution_count": 362,
   "id": "cb62d679",
   "metadata": {},
   "outputs": [],
   "source": [
    "opt = torch.optim.Adam(net.parameters(), alpha)"
   ]
  },
  {
   "cell_type": "code",
   "execution_count": 363,
   "id": "ca113da7",
   "metadata": {},
   "outputs": [
    {
     "data": {
      "text/plain": [
       "tensor([[1, 0, 0, 0, 0, 0, 0, 0, 0, 0]])"
      ]
     },
     "execution_count": 363,
     "metadata": {},
     "output_type": "execute_result"
    }
   ],
   "source": [
    "torch.nn.functional.one_hot(torch.tensor([0]), 10)"
   ]
  },
  {
   "cell_type": "code",
   "execution_count": 364,
   "id": "a60cc7ec",
   "metadata": {},
   "outputs": [],
   "source": [
    "@dataclass\n",
    "class Transition:\n",
    "    state: int\n",
    "    action: int\n",
    "    next_state: int\n",
    "    reward: float\n",
    "\n",
    "class ReplayBuffer(object):\n",
    "    def __init__(self, size):\n",
    "        self._storage = []\n",
    "        self._maxsize = size\n",
    "        self._next_idx = 0\n",
    "\n",
    "    def __len__(self):\n",
    "        return len(self._storage)\n",
    "\n",
    "    def push(self, *args):\n",
    "        data = Transition(*args)\n",
    "\n",
    "        if self._next_idx >= len(self._storage):\n",
    "            self._storage.append(data)\n",
    "        else:\n",
    "            self._storage[self._next_idx] = data\n",
    "        self._next_idx = (self._next_idx + 1) % self._maxsize\n",
    "\n",
    "    def sample_batch(self, batch_size):\n",
    "        return [self._storage[random.randint(0, len(self._storage) - 1)] for _ in range(batch_size)]"
   ]
  },
  {
   "cell_type": "code",
   "execution_count": 365,
   "id": "2a5a1b34",
   "metadata": {},
   "outputs": [
    {
     "data": {
      "text/plain": [
       "(7, 0, True, False, {'prob': 1.0})"
      ]
     },
     "execution_count": 365,
     "metadata": {},
     "output_type": "execute_result"
    }
   ],
   "source": [
    "env.step(2)"
   ]
  },
  {
   "cell_type": "code",
   "execution_count": 366,
   "id": "5a122927",
   "metadata": {},
   "outputs": [],
   "source": [
    "Rs = []\n",
    "Eps = []\n",
    "buffer = ReplayBuffer(1000)\n",
    "for episode in range(max_episodes):\n",
    "    s, _ = env.reset()\n",
    "    R = 0\n",
    "    for step in range(max_steps):\n",
    "        a = select_action(net, s, eps)\n",
    "        s_prime, r, done, _, _ = env.step(a)\n",
    "        buffer.push(s, a, s_prime, r)\n",
    "        R += r\n",
    "\n",
    "        if done:\n",
    "            break\n",
    "            \n",
    "        s = s_prime\n",
    "        eps *= eps_decay\n",
    "    Rs.append(R)\n",
    "    Eps.append(eps)\n",
    "    \n",
    "    sample = buffer.sample_batch(batch_size)\n",
    "    s = torch.tensor([t.state for t in sample])\n",
    "    s_prime = torch.tensor([t.next_state for t in sample])\n",
    "    a = torch.tensor([t.action for t in sample])\n",
    "    r = torch.tensor([t.reward for t in sample])\n",
    "    \n",
    "    f = F.one_hot(s, nS).float()\n",
    "    f_prime = F.one_hot(s_prime, nS).float()\n",
    "            \n",
    "    opt.zero_grad()\n",
    "    q = qnet(f)[:, a]\n",
    "    q_prime = qnet(f_prime).max(dim=1).values\n",
    "    loss = (r + gamma*q_prime - q).pow(2).mean()\n",
    "    loss.backward()\n",
    "    opt.step()"
   ]
  },
  {
   "cell_type": "code",
   "execution_count": null,
   "id": "e3527cb4",
   "metadata": {},
   "outputs": [],
   "source": []
  },
  {
   "cell_type": "code",
   "execution_count": 352,
   "id": "25531b5b",
   "metadata": {},
   "outputs": [
    {
     "data": {
      "text/plain": [
       "tensor([0.0023, 0.0023, 0.0023, 0.0023, 0.0023, 0.0023, 0.0023, 0.0023, 0.0023,\n",
       "        0.0023, 0.0023], grad_fn=<MaxBackward0>)"
      ]
     },
     "execution_count": 352,
     "metadata": {},
     "output_type": "execute_result"
    }
   ],
   "source": [
    "net(fs_prime).max(dim=1).values"
   ]
  },
  {
   "cell_type": "code",
   "execution_count": 353,
   "id": "735d9aa5",
   "metadata": {},
   "outputs": [
    {
     "ename": "RuntimeError",
     "evalue": "The size of tensor a (11) must match the size of tensor b (64) at non-singleton dimension 0",
     "output_type": "error",
     "traceback": [
      "\u001b[0;31m---------------------------------------------------------------------------\u001b[0m",
      "\u001b[0;31mRuntimeError\u001b[0m                              Traceback (most recent call last)",
      "Cell \u001b[0;32mIn [353], line 1\u001b[0m\n\u001b[0;32m----> 1\u001b[0m (\u001b[43mrs\u001b[49m\u001b[43m \u001b[49m\u001b[38;5;241;43m+\u001b[39;49m\u001b[43m \u001b[49m\u001b[43mgamma\u001b[49m\u001b[38;5;241;43m*\u001b[39;49m\u001b[43mq_prime\u001b[49m \u001b[38;5;241m-\u001b[39m q)\u001b[38;5;241m.\u001b[39mpow(\u001b[38;5;241m2\u001b[39m)\n",
      "\u001b[0;31mRuntimeError\u001b[0m: The size of tensor a (11) must match the size of tensor b (64) at non-singleton dimension 0"
     ]
    }
   ],
   "source": [
    "(rs + gamma*q_prime - q).pow(2)"
   ]
  },
  {
   "cell_type": "code",
   "execution_count": null,
   "id": "d6cb89d9",
   "metadata": {},
   "outputs": [],
   "source": []
  },
  {
   "cell_type": "code",
   "execution_count": 367,
   "id": "118d9076",
   "metadata": {},
   "outputs": [
    {
     "data": {
      "image/png": "[encoded data removed]",
      "text/plain": [
       "<Figure size 600x400 with 2 Axes>"
      ]
     },
     "metadata": {},
     "output_type": "display_data"
    }
   ],
   "source": [
    "fig, axes = plt.subplots(2, 1, figsize=(6, 4))\n",
    "axes = axes.flatten()\n",
    "axes[0].plot(Rs)\n",
    "axes[0].set_xlim(0, max_episodes)\n",
    "axes[0].grid()\n",
    "axes[0].set_ylabel(\"Return\")\n",
    "axes[1].plot(Eps)\n",
    "axes[1].set_xlim(0, max_episodes)\n",
    "axes[1].grid()\n",
    "axes[1].set_xlabel(\"Episodes\")\n",
    "axes[1].set_ylabel(\"Epsilon\")\n",
    "plt.tight_layout()\n",
    "plt.show()"
   ]
  },
  {
   "cell_type": "code",
   "execution_count": 82,
   "id": "14ae0fea",
   "metadata": {},
   "outputs": [
    {
     "data": {
      "image/png": "[encoded data removed]",
      "text/plain": [
       "<Figure size 1600x600 with 1 Axes>"
      ]
     },
     "metadata": {},
     "output_type": "display_data"
    }
   ],
   "source": [
    "plt.figure(figsize=(16, 6))\n",
    "plt.imshow(Q, cmap='Reds')\n",
    "for i in range(nS):\n",
    "    for j in range(nA):\n",
    "        q = np.around(Q[i, j], 2)\n",
    "        plt.text(j, i, q, ha='center', va='bottom', color='gray')\n",
    "plt.yticks(np.arange(nS), np.arange(nS))\n",
    "plt.xticks(np.arange(nA), ['L', 'D', 'R', 'U'])\n",
    "plt.tight_layout()\n",
    "plt.show()"
   ]
  },
  {
   "cell_type": "code",
   "execution_count": null,
   "id": "4e337250",
   "metadata": {},
   "outputs": [],
   "source": []
  }
 ],
 "metadata": {
  "kernelspec": {
   "display_name": "rl-env",
   "language": "python",
   "name": "rl-env"
  },
  "language_info": {
   "codemirror_mode": {
    "name": "ipython",
    "version": 3
   },
   "file_extension": ".py",
   "mimetype": "text/x-python",
   "name": "python",
   "nbconvert_exporter": "python",
   "pygments_lexer": "ipython3",
   "version": "3.10.10"
  }
 },
 "nbformat": 4,
 "nbformat_minor": 5
}
