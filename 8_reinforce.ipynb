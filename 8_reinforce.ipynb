{
 "cells": [
  {
   "cell_type": "code",
   "execution_count": 577,
   "id": "5463238b",
   "metadata": {},
   "outputs": [],
   "source": [
    "import numpy as np\n",
    "import matplotlib.pyplot as plt\n",
    "import gym\n",
    "import torch\n",
    "import torch.nn.functional as F"
   ]
  },
  {
   "attachments": {},
   "cell_type": "markdown",
   "id": "6ccdeb3f",
   "metadata": {},
   "source": [
    "# REINFORCE"
   ]
  },
  {
   "attachments": {},
   "cell_type": "markdown",
   "id": "b3216cae",
   "metadata": {},
   "source": [
    "![Pendulum](imgs/pendulum.gif)"
   ]
  },
  {
   "cell_type": "code",
   "execution_count": 578,
   "id": "725b4350",
   "metadata": {},
   "outputs": [],
   "source": [
    "env = gym.make('Pendulum-v1', g=9.81)"
   ]
  },
  {
   "cell_type": "code",
   "execution_count": 579,
   "id": "4e09182e",
   "metadata": {},
   "outputs": [],
   "source": [
    "nS = env.observation_space.low.size\n",
    "nA = env.action_space.low.size\n",
    "nH = 512"
   ]
  },
  {
   "cell_type": "code",
   "execution_count": 580,
   "id": "0450ec9e",
   "metadata": {},
   "outputs": [],
   "source": [
    "gamma = 0.99\n",
    "tau = 0.95\n",
    "alpha = 1e-4\n",
    "options = {\"x_init\": 0.01, \"y_init\": 0.01}"
   ]
  },
  {
   "cell_type": "code",
   "execution_count": 581,
   "id": "b6fffb02",
   "metadata": {},
   "outputs": [],
   "source": [
    "max_episodes = 15000\n",
    "max_steps = 30"
   ]
  },
  {
   "cell_type": "code",
   "execution_count": 582,
   "id": "3eb2a39f",
   "metadata": {},
   "outputs": [],
   "source": [
    "actor = torch.nn.Sequential(\n",
    "    torch.nn.Linear(nS, nH),\n",
    "    torch.nn.ReLU(),\n",
    "    torch.nn.Linear(nH, nA)\n",
    ")"
   ]
  },
  {
   "cell_type": "code",
   "execution_count": 583,
   "id": "1dbf2e85",
   "metadata": {},
   "outputs": [],
   "source": [
    "critic = torch.nn.Sequential(\n",
    "    torch.nn.Linear(nS, nH),\n",
    "    torch.nn.ReLU(),\n",
    "    torch.nn.Linear(nH, nA)\n",
    ")"
   ]
  },
  {
   "cell_type": "code",
   "execution_count": 584,
   "id": "45a114d9",
   "metadata": {},
   "outputs": [],
   "source": [
    "log_sigma = torch.ones(1, dtype=torch.double, requires_grad=True)"
   ]
  },
  {
   "cell_type": "code",
   "execution_count": 585,
   "id": "18037be4",
   "metadata": {},
   "outputs": [],
   "source": [
    "opt_actor = torch.optim.Adam(list(actor.parameters()) + [log_sigma], lr=alpha)\n",
    "opt_critic = torch.optim.Adam(actor.parameters(), lr=alpha)"
   ]
  },
  {
   "cell_type": "code",
   "execution_count": 586,
   "id": "e789a1bc",
   "metadata": {},
   "outputs": [],
   "source": [
    "class Buffer:\n",
    "    def __init__(self):\n",
    "        self.actions = []\n",
    "        self.states = []\n",
    "        self.logprobs = []\n",
    "        self.rewards = []\n",
    "        self.terminals = []\n",
    "\n",
    "    def clear(self):\n",
    "        self.actions = []\n",
    "        self.states = []\n",
    "        self.logprobs = []\n",
    "        self.rewards = []\n",
    "        self.terminals = []\n",
    "\n",
    "    def __len__(self):\n",
    "        return len(self.states)"
   ]
  },
  {
   "cell_type": "code",
   "execution_count": 587,
   "id": "a779701a",
   "metadata": {},
   "outputs": [],
   "source": [
    "def select_action(actor, log_sigma, s):\n",
    "    mu = actor(torch.as_tensor(s))\n",
    "    sigma = log_sigma.exp()\n",
    "    pi = torch.distributions.Normal(mu, sigma)\n",
    "\n",
    "    a = pi.sample()\n",
    "    a_logprob = pi.log_prob(a)\n",
    "    \n",
    "    return a, a_logprob"
   ]
  },
  {
   "cell_type": "code",
   "execution_count": 588,
   "id": "028bb2f9",
   "metadata": {},
   "outputs": [],
   "source": [
    "def calculate_returns(values, buffer):\n",
    "    returns = []\n",
    "    advantages=[]\n",
    "\n",
    "    prev_return = 0\n",
    "    prev_value = 0\n",
    "    prev_advantage = 0\n",
    "    for i in reversed(range(len(buffer))):\n",
    "        reward = buffer.rewards[i]\n",
    "        mask = 1 - buffer.terminals[i]\n",
    "\n",
    "        actual_return = reward + gamma*prev_return*mask\n",
    "        actual_delta = reward + gamma*prev_value*mask - values[i]\n",
    "        actual_advantage = actual_delta + gamma*tau*prev_advantage*mask        \n",
    "\n",
    "        returns.insert(0, actual_return)\n",
    "        advantages.insert(0, actual_advantage)\n",
    "\n",
    "        prev_return = actual_return\n",
    "        prev_value = values[i]\n",
    "        prev_advantage = actual_advantage\n",
    "\n",
    "    returns = torch.as_tensor(returns)\n",
    "    advantages = torch.as_tensor(advantages)\n",
    "\n",
    "    return returns, advantages"
   ]
  },
  {
   "cell_type": "code",
   "execution_count": 589,
   "id": "21d1dedb",
   "metadata": {},
   "outputs": [],
   "source": [
    "def train(actor, critic, opt_actor, opt_critic, buffer):\n",
    "    states = torch.as_tensor(buffer.states)\n",
    "    logprobs = torch.stack(buffer.logprobs)\n",
    "    \n",
    "    values = critic(states).flatten()\n",
    "    returns, advantages = calculate_returns(values, buffer)\n",
    "            \n",
    "    # Actor\n",
    "    loss_action = torch.mean(-logprobs*advantages)\n",
    "    opt_actor.zero_grad()\n",
    "    loss_action.backward()\n",
    "    opt_actor.step()\n",
    "\n",
    "    # Critic\n",
    "    criterion = torch.nn.MSELoss()\n",
    "    loss_value = criterion(values, returns)\n",
    "    opt_critic.zero_grad()\n",
    "    loss_value.backward()\n",
    "    opt_critic.step()\n",
    "    \n",
    "    buffer.clear()"
   ]
  },
  {
   "cell_type": "code",
   "execution_count": 590,
   "id": "5a122927",
   "metadata": {
    "scrolled": true
   },
   "outputs": [],
   "source": [
    "Rs = []\n",
    "buffer = Buffer()\n",
    "for episode in range(max_episodes):\n",
    "    s, _ = env.reset(options=options)\n",
    "    R = 0\n",
    "    for step in range(max_steps):\n",
    "        a, a_logprob = select_action(actor, log_sigma, s)\n",
    "        s_prime, r, done, _, _ = env.step(a)\n",
    "        \n",
    "        buffer.states.append(s)\n",
    "        buffer.actions.append(a)\n",
    "        buffer.logprobs.append(a_logprob)\n",
    "        buffer.rewards.append(r)\n",
    "        buffer.terminals.append(done)\n",
    "        R += r\n",
    "\n",
    "        if done:\n",
    "            break\n",
    "            \n",
    "        s = s_prime\n",
    "    train(actor, critic, opt_actor, opt_critic, buffer)\n",
    "    Rs.append(R)"
   ]
  },
  {
   "cell_type": "code",
   "execution_count": 591,
   "id": "19070a44",
   "metadata": {},
   "outputs": [],
   "source": [
    "mean = np.array([np.mean(Rs[i:i+100]) for i in range(len(Rs) - 10)])\n",
    "std = np.array([np.std(Rs[i:i+100]) for i in range(len(Rs) - 10)])\n",
    "time = np.arange(mean.size)"
   ]
  },
  {
   "cell_type": "code",
   "execution_count": 592,
   "id": "118d9076",
   "metadata": {},
   "outputs": [
    {
     "data": {
      "image/png": "[encoded data removed]",
      "text/plain": [
       "<Figure size 600x400 with 2 Axes>"
      ]
     },
     "metadata": {},
     "output_type": "display_data"
    }
   ],
   "source": [
    "fig, axes = plt.subplots(2, 1, figsize=(6, 4))\n",
    "axes = axes.flatten()\n",
    "axes[0].plot(Rs)\n",
    "axes[0].set_xlim(0, max_episodes)\n",
    "axes[0].grid()\n",
    "axes[0].set_ylabel(\"Return\")\n",
    "axes[1].plot(mean)\n",
    "axes[1].fill_between(time, mean - std, mean + std, color='b', alpha=0.2)\n",
    "axes[1].set_xlim(0, max_episodes)\n",
    "axes[1].grid()\n",
    "axes[1].set_ylabel(\"Smoothed return\")\n",
    "plt.tight_layout()\n",
    "plt.show()"
   ]
  }
 ],
 "metadata": {
  "kernelspec": {
   "display_name": "rl-env",
   "language": "python",
   "name": "rl-env"
  },
  "language_info": {
   "codemirror_mode": {
    "name": "ipython",
    "version": 3
   },
   "file_extension": ".py",
   "mimetype": "text/x-python",
   "name": "python",
   "nbconvert_exporter": "python",
   "pygments_lexer": "ipython3",
   "version": "3.10.10"
  }
 },
 "nbformat": 4,
 "nbformat_minor": 5
}
