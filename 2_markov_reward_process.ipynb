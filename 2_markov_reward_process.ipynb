{
 "cells": [
  {
   "cell_type": "code",
   "execution_count": 82,
   "id": "1ed6ec04",
   "metadata": {},
   "outputs": [],
   "source": [
    "import numpy as np\n",
    "import matplotlib.pyplot as plt"
   ]
  },
  {
   "cell_type": "code",
   "execution_count": 3,
   "id": "59e0fa71",
   "metadata": {},
   "outputs": [],
   "source": [
    "P = np.array([[0.1, 0.3, 0.3, 0.3],\n",
    "              [0.2, 0.1, 0.2, 0.5],\n",
    "              [0.1, 0.1, 0.2, 0.6],\n",
    "              [0.3, 0.3, 0.2, 0.2]])"
   ]
  },
  {
   "cell_type": "code",
   "execution_count": 109,
   "id": "08410bf7",
   "metadata": {},
   "outputs": [],
   "source": [
    "R = np.array([1, 0, 0, 0]).reshape(-1, 1)\n",
    "gamma = 0.9"
   ]
  },
  {
   "cell_type": "code",
   "execution_count": 5,
   "id": "cc43e216",
   "metadata": {},
   "outputs": [
    {
     "data": {
      "text/plain": [
       "array([[0.01, 0.09, 0.09, 0.09],\n",
       "       [0.04, 0.01, 0.04, 0.25],\n",
       "       [0.01, 0.01, 0.04, 0.36],\n",
       "       [0.09, 0.09, 0.04, 0.04]])"
      ]
     },
     "execution_count": 5,
     "metadata": {},
     "output_type": "execute_result"
    }
   ],
   "source": [
    "P**2"
   ]
  },
  {
   "cell_type": "code",
   "execution_count": 6,
   "id": "34396302",
   "metadata": {},
   "outputs": [
    {
     "data": {
      "text/plain": [
       "array([[0.001, 0.027, 0.027, 0.027],\n",
       "       [0.008, 0.001, 0.008, 0.125],\n",
       "       [0.001, 0.001, 0.008, 0.216],\n",
       "       [0.027, 0.027, 0.008, 0.008]])"
      ]
     },
     "execution_count": 6,
     "metadata": {},
     "output_type": "execute_result"
    }
   ],
   "source": [
    "P**3"
   ]
  },
  {
   "cell_type": "code",
   "execution_count": 7,
   "id": "1290c58b",
   "metadata": {},
   "outputs": [
    {
     "data": {
      "text/plain": [
       "array([[1.000e-04, 8.100e-03, 8.100e-03, 8.100e-03],\n",
       "       [1.600e-03, 1.000e-04, 1.600e-03, 6.250e-02],\n",
       "       [1.000e-04, 1.000e-04, 1.600e-03, 1.296e-01],\n",
       "       [8.100e-03, 8.100e-03, 1.600e-03, 1.600e-03]])"
      ]
     },
     "execution_count": 7,
     "metadata": {},
     "output_type": "execute_result"
    }
   ],
   "source": [
    "P**4"
   ]
  },
  {
   "cell_type": "code",
   "execution_count": 40,
   "id": "2cbb1a96",
   "metadata": {},
   "outputs": [],
   "source": [
    "s = np.array([1, 0, 0, 0])\n",
    "s.reshape(-1, 1)\n",
    "for _ in range(1000):\n",
    "    s = P @ s"
   ]
  },
  {
   "cell_type": "code",
   "execution_count": 41,
   "id": "5e7aad6c",
   "metadata": {},
   "outputs": [
    {
     "data": {
      "text/plain": [
       "array([0.19562244, 0.19562244, 0.19562244, 0.19562244])"
      ]
     },
     "execution_count": 41,
     "metadata": {},
     "output_type": "execute_result"
    }
   ],
   "source": [
    "s"
   ]
  },
  {
   "cell_type": "code",
   "execution_count": 42,
   "id": "85cddb3d",
   "metadata": {},
   "outputs": [],
   "source": [
    "eigenvalues, eigenvectors = np.linalg.eig(P)"
   ]
  },
  {
   "cell_type": "code",
   "execution_count": 110,
   "id": "697ee5b9",
   "metadata": {},
   "outputs": [
    {
     "data": {
      "text/plain": [
       "array([[2.67353541],\n",
       "       [1.77286324],\n",
       "       [1.69754719],\n",
       "       [1.83669041]])"
      ]
     },
     "execution_count": 110,
     "metadata": {},
     "output_type": "execute_result"
    }
   ],
   "source": [
    "V = np.zeros((4, 1))\n",
    "Vs = []\n",
    "for _ in range(1000):\n",
    "    V = R + gamma * P @ V\n",
    "    Vs.append(V)\n",
    "V"
   ]
  },
  {
   "cell_type": "code",
   "execution_count": 111,
   "id": "f8fb5c56",
   "metadata": {},
   "outputs": [
    {
     "data": {
      "text/plain": [
       "array([[1956.93221436],\n",
       "       [1956.04302148],\n",
       "       [1955.96094213],\n",
       "       [1956.11142093]])"
      ]
     },
     "execution_count": 111,
     "metadata": {},
     "output_type": "execute_result"
    }
   ],
   "source": [
    "V = np.zeros((4, 1))\n",
    "Vs = []\n",
    "for _ in range(10000):\n",
    "    V = R + P @ V\n",
    "    Vs.append(V)\n",
    "V"
   ]
  },
  {
   "cell_type": "code",
   "execution_count": 112,
   "id": "c927646a",
   "metadata": {},
   "outputs": [
    {
     "data": {
      "text/plain": [
       "array([[2.67353541],\n",
       "       [1.77286324],\n",
       "       [1.69754719],\n",
       "       [1.83669041]])"
      ]
     },
     "execution_count": 112,
     "metadata": {},
     "output_type": "execute_result"
    }
   ],
   "source": [
    "A = np.eye(P.shape[0]) - gamma * P\n",
    "b = R\n",
    "V = np.linalg.inv(A) @ R\n",
    "V"
   ]
  },
  {
   "cell_type": "code",
   "execution_count": 120,
   "id": "a108eb6e",
   "metadata": {},
   "outputs": [
    {
     "data": {
      "text/plain": [
       "0.9758690349325011"
      ]
     },
     "execution_count": 120,
     "metadata": {},
     "output_type": "execute_result"
    }
   ],
   "source": [
    "s = 0\n",
    "V = 0\n",
    "Gs = []\n",
    "for i in range(10000):\n",
    "    G = 0\n",
    "    for j in range(1000):\n",
    "        r = R[s, 0]\n",
    "        p = P[s, :]\n",
    "        s = np.random.choice(P.shape[0], p=p)\n",
    "        G += gamma**j * r\n",
    "    Gs.append(G)\n",
    "    alpha = 1/(i + 1)\n",
    "    V = (1 - alpha)*V + alpha*(G - V)\n",
    "V"
   ]
  },
  {
   "cell_type": "code",
   "execution_count": 121,
   "id": "82eb9f2e",
   "metadata": {},
   "outputs": [
    {
     "data": {
      "image/png": "[encoded data removed]",
      "text/plain": [
       "<Figure size 640x480 with 1 Axes>"
      ]
     },
     "metadata": {},
     "output_type": "display_data"
    }
   ],
   "source": [
    "plt.hist(Gs, bins=50);"
   ]
  }
 ],
 "metadata": {
  "kernelspec": {
   "display_name": "rl-env",
   "language": "python",
   "name": "rl-env"
  },
  "language_info": {
   "codemirror_mode": {
    "name": "ipython",
    "version": 3
   },
   "file_extension": ".py",
   "mimetype": "text/x-python",
   "name": "python",
   "nbconvert_exporter": "python",
   "pygments_lexer": "ipython3",
   "version": "3.10.10"
  }
 },
 "nbformat": 4,
 "nbformat_minor": 5
}
