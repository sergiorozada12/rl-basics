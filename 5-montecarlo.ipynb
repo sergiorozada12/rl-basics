{
 "cells": [
  {
   "cell_type": "code",
   "execution_count": 1,
   "id": "5463238b",
   "metadata": {},
   "outputs": [],
   "source": [
    "import numpy as np\n",
    "import matplotlib.pyplot as plt\n",
    "import gym"
   ]
  },
  {
   "cell_type": "code",
   "execution_count": 2,
   "id": "725b4350",
   "metadata": {},
   "outputs": [],
   "source": [
    "env = gym.make('FrozenLake-v1', is_slippery=False)"
   ]
  },
  {
   "cell_type": "code",
   "execution_count": 3,
   "id": "4e09182e",
   "metadata": {},
   "outputs": [],
   "source": [
    "nS = env.observation_space.n\n",
    "nA = env.action_space.n"
   ]
  },
  {
   "cell_type": "code",
   "execution_count": 66,
   "id": "0450ec9e",
   "metadata": {},
   "outputs": [],
   "source": [
    "gamma = 0.9"
   ]
  },
  {
   "cell_type": "code",
   "execution_count": 67,
   "id": "546d98f8",
   "metadata": {},
   "outputs": [],
   "source": [
    "max_episodes = 1000\n",
    "max_steps = 20"
   ]
  },
  {
   "cell_type": "code",
   "execution_count": 68,
   "id": "25fde248",
   "metadata": {},
   "outputs": [],
   "source": [
    "def calculate_returns(buffer, Rs):\n",
    "    R = 0\n",
    "    for s, a, r in reversed(buffer):\n",
    "        R = r + gamma*R\n",
    "        Rs[s, a] += R\n",
    "    return Rs"
   ]
  },
  {
   "cell_type": "code",
   "execution_count": 77,
   "id": "c42d0348",
   "metadata": {},
   "outputs": [],
   "source": [
    "def mc_estimation(Q):\n",
    "    Rs = np.zeros((nS, nA))\n",
    "    Ns = np.zeros((nS, nA)) + 1e-10\n",
    "    for episode in range(max_episodes):\n",
    "        # Sample\n",
    "        s, _ = env.reset()\n",
    "        buffer = []\n",
    "        for step in range(max_steps):\n",
    "            a = np.argmax(Q[s, :])\n",
    "            s_prime, r, done, _, _ = env.step(a)\n",
    "\n",
    "            buffer.append((s, a, r))\n",
    "            Ns[s, a] += 1\n",
    "\n",
    "            if done:\n",
    "                break\n",
    "\n",
    "            s = s_prime\n",
    "\n",
    "        # Update\n",
    "        Rs = calculate_returns(buffer, Rs)\n",
    "        Q = Rs / Ns\n",
    "    return Q"
   ]
  },
  {
   "cell_type": "code",
   "execution_count": 78,
   "id": "1e055df0",
   "metadata": {},
   "outputs": [],
   "source": [
    "Q = np.zeros((nS, nA))\n",
    "for _ in range(100):\n",
    "    Q = mc_estimation(Q)"
   ]
  },
  {
   "cell_type": "code",
   "execution_count": 79,
   "id": "9e4d73d8",
   "metadata": {},
   "outputs": [
    {
     "data": {
      "image/png": "[encoded data removed]",
      "text/plain": [
       "<Figure size 1600x600 with 1 Axes>"
      ]
     },
     "metadata": {},
     "output_type": "display_data"
    }
   ],
   "source": [
    "plt.figure(figsize=(16, 6))\n",
    "plt.imshow(Q, cmap='Reds')\n",
    "for i in range(nS):\n",
    "    for j in range(nA):\n",
    "        q = np.around(Q[i, j], 2)\n",
    "        plt.text(j, i, q, ha='center', va='bottom', color='gray')\n",
    "plt.yticks(np.arange(nS), np.arange(nS))\n",
    "plt.xticks(np.arange(nA), ['L', 'D', 'R', 'U'])\n",
    "plt.tight_layout()\n",
    "plt.show()"
   ]
  },
  {
   "cell_type": "code",
   "execution_count": 109,
   "id": "50dc3244",
   "metadata": {},
   "outputs": [],
   "source": [
    "def select_action(Q, epsilon):\n",
    "    if np.random.rand() < epsilon:\n",
    "        return np.random.choice(nA)\n",
    "    return np.argmax(Q[s, :])"
   ]
  },
  {
   "cell_type": "code",
   "execution_count": 110,
   "id": "e015ac2a",
   "metadata": {},
   "outputs": [],
   "source": [
    "def mc_estimation(Q, eps):\n",
    "    Rs = np.zeros((nS, nA))\n",
    "    Ns = np.zeros((nS, nA)) + 1e-10\n",
    "    for episode in range(1000):\n",
    "        s, _ = env.reset()\n",
    "        buffer = []\n",
    "        for step in range(20):\n",
    "            a = select_action(Q, eps)\n",
    "            s_prime, r, done, _, _ = env.step(a)\n",
    "\n",
    "            buffer.append((s, a, r))\n",
    "            Ns[s, a] += 1\n",
    "\n",
    "            if done:\n",
    "                break\n",
    "\n",
    "            s = s_prime\n",
    "            \n",
    "        calculate_returns(buffer, Rs)\n",
    "        Q = Rs / Ns\n",
    "    return Q"
   ]
  },
  {
   "cell_type": "code",
   "execution_count": 111,
   "id": "e9b36ac8",
   "metadata": {},
   "outputs": [],
   "source": [
    "eps = 1.0\n",
    "Q = np.zeros((nS, nA))\n",
    "for k in range(20):\n",
    "    eps = 1 / (k + 1)\n",
    "    Q = mc_estimation(Q, eps)"
   ]
  },
  {
   "cell_type": "code",
   "execution_count": 112,
   "id": "08f8d2e2",
   "metadata": {},
   "outputs": [
    {
     "data": {
      "image/png": "[encoded data removed]",
      "text/plain": [
       "<Figure size 1600x600 with 1 Axes>"
      ]
     },
     "metadata": {},
     "output_type": "display_data"
    }
   ],
   "source": [
    "plt.figure(figsize=(16, 6))\n",
    "plt.imshow(Q, cmap='Reds')\n",
    "for i in range(nS):\n",
    "    for j in range(nA):\n",
    "        q = np.around(Q[i, j], 2)\n",
    "        plt.text(j, i, q, ha='center', va='bottom', color='gray')\n",
    "plt.yticks(np.arange(nS), np.arange(nS))\n",
    "plt.xticks(np.arange(nA), ['L', 'D', 'R', 'U'])\n",
    "plt.tight_layout()\n",
    "plt.show()"
   ]
  },
  {
   "cell_type": "code",
   "execution_count": null,
   "id": "bd9ed755",
   "metadata": {},
   "outputs": [],
   "source": []
  }
 ],
 "metadata": {
  "kernelspec": {
   "display_name": "rl-env",
   "language": "python",
   "name": "rl-env"
  },
  "language_info": {
   "codemirror_mode": {
    "name": "ipython",
    "version": 3
   },
   "file_extension": ".py",
   "mimetype": "text/x-python",
   "name": "python",
   "nbconvert_exporter": "python",
   "pygments_lexer": "ipython3",
   "version": "3.10.10"
  }
 },
 "nbformat": 4,
 "nbformat_minor": 5
}
